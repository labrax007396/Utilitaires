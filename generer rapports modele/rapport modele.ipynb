{
 "cells": [
  {
   "attachments": {},
   "cell_type": "markdown",
   "metadata": {},
   "source": [
    "# Librairies nécessaires"
   ]
  },
  {
   "cell_type": "code",
   "execution_count": 1,
   "metadata": {},
   "outputs": [
    {
     "ename": "ModuleNotFoundError",
     "evalue": "No module named 'docx2html'",
     "output_type": "error",
     "traceback": [
      "\u001b[1;31m---------------------------------------------------------------------------\u001b[0m",
      "\u001b[1;31mModuleNotFoundError\u001b[0m                       Traceback (most recent call last)",
      "Cell \u001b[1;32mIn[1], line 12\u001b[0m\n\u001b[0;32m     10\u001b[0m \u001b[38;5;28;01mimport\u001b[39;00m \u001b[38;5;21;01mgenerer_rapports\u001b[39;00m \u001b[38;5;28;01mas\u001b[39;00m \u001b[38;5;21;01mgr\u001b[39;00m\n\u001b[0;32m     11\u001b[0m \u001b[38;5;28;01mfrom\u001b[39;00m \u001b[38;5;21;01mdocx2pdf\u001b[39;00m \u001b[38;5;28;01mimport\u001b[39;00m convert\n\u001b[1;32m---> 12\u001b[0m \u001b[38;5;28;01mimport\u001b[39;00m \u001b[38;5;21;01mdocx2html\u001b[39;00m\n\u001b[0;32m     14\u001b[0m \u001b[38;5;66;03m# Librairies personnelles\u001b[39;00m\n\u001b[0;32m     15\u001b[0m path \u001b[38;5;241m=\u001b[39m os\u001b[38;5;241m.\u001b[39mgetcwd()\n",
      "\u001b[1;31mModuleNotFoundError\u001b[0m: No module named 'docx2html'"
     ]
    }
   ],
   "source": [
    "import numpy as np\n",
    "import pandas as pd\n",
    "import commentjson\n",
    "import mlflow\n",
    "from mlflow.tracking import MlflowClient\n",
    "import shap\n",
    "import os\n",
    "import sys\n",
    "import importlib\n",
    "import generer_rapports as gr\n",
    "from docx2pdf import convert\n",
    "\n",
    "# Librairies personnelles\n",
    "path = os.getcwd()\n",
    "path_src = os.path.abspath(os.path.join(path, os.pardir,\"src\"))\n",
    "sys.path.append(path_src)\n",
    "#path_mode = os.path.abspath(os.path.join(path, os.pardir,\"src\",\"modelisation\"))\n",
    "#sys.path.append(path_mode)\n",
    "\n",
    "from modelisation import mlflow_functions\n",
    "importlib.reload(mlflow_functions)\n",
    "importlib.reload(gr)"
   ]
  },
  {
   "attachments": {},
   "cell_type": "markdown",
   "metadata": {},
   "source": [
    "## Récupération des données du run MLFLOW"
   ]
  },
  {
   "cell_type": "code",
   "execution_count": 21,
   "metadata": {},
   "outputs": [],
   "source": [
    "### Paramétrisation ###########################################\n",
    "\n",
    "with open(\"config.json\", encoding='utf-8') as file:\n",
    "    int_config = commentjson.load(file)\n",
    "\n",
    "#experiment_name  = int_config['experiment']\n",
    "\n",
    "experiment_name  = int_config['client']+'-'+int_config['site']+ \"-\" + int_config['depart'] + \"-\" + int_config['case_study']\n",
    "###############################################################\n",
    "\n",
    "\n",
    "###############################################################\n",
    "\n",
    "rep_tracking_mlflow = \"file:///\"+int_config['dir_models']+int_config['client']+'/'+int_config['site']+ \"/\" + int_config['depart'] +'/'+'ARCTIFACTS'\n",
    "\n",
    "\n",
    "\n",
    "#rep_tracking_mlflow = \"file:///\"+int_config['dir_models']+\"MLFLOW\"\n",
    "mlflow.set_tracking_uri(rep_tracking_mlflow)\n",
    "\n",
    "experiment = mlflow.get_experiment_by_name(experiment_name)\n",
    "if not experiment:\n",
    "    print(\"Experience mlflow non trouvée\")\n",
    "\n",
    "experiment = mlflow.get_experiment_by_name(experiment_name)\n",
    "\n",
    "runs = MlflowClient().search_runs(\n",
    "    experiment_ids = experiment.experiment_id,\n",
    "    filter_string  = \"attributes.`run_name` =\" + \"'\" + int_config['run_name'] + \"'\"\n",
    ")\n",
    "\n",
    "if not runs:\n",
    "    print(\"Nom de l'experience ou du run invalide\")\n",
    "else:\n",
    "    dico_infos = mlflow_functions.Load_Information_For_Report(runs[0])\n",
    "\n",
    "    C:\\Users\\33623\\Modeling\\packages\\generer rapports modele\\rapport modele.ipynb"
   ]
  },
  {
   "cell_type": "markdown",
   "metadata": {},
   "source": [
    "## Génération du rapport"
   ]
  },
  {
   "cell_type": "code",
   "execution_count": 1,
   "metadata": {},
   "outputs": [],
   "source": [
    "from docx import Document"
   ]
  },
  {
   "cell_type": "code",
   "execution_count": 27,
   "metadata": {},
   "outputs": [
    {
     "data": {
      "application/vnd.jupyter.widget-view+json": {
       "model_id": "d4717962fef74d7983cb06abaa8a9415",
       "version_major": 2,
       "version_minor": 0
      },
      "text/plain": [
       "  0%|          | 0/1 [00:00<?, ?it/s]"
      ]
     },
     "metadata": {},
     "output_type": "display_data"
    }
   ],
   "source": [
    "importlib.reload(gr)\n",
    "docx = gr.word_docx(dico_infos)\n",
    "docx.save('Rapport_modélisation.docx')\n",
    "convert('Rapport_modélisation.docx')"
   ]
  },
  {
   "cell_type": "code",
   "execution_count": 28,
   "metadata": {},
   "outputs": [],
   "source": [
    "with mlflow.start_run(run_id=runs[0].info.run_id) as run:\n",
    "    mlflow.log_artifact('Rapport_modélisation.docx', artifact_path=\"Rapports\")\n",
    "    mlflow.log_artifact('Rapport_modélisation.pdf', artifact_path=\"Rapports\")\n",
    "\n",
    "\n",
    "mlflow.end_run()"
   ]
  }
 ],
 "metadata": {
  "kernelspec": {
   "display_name": "automl",
   "language": "python",
   "name": "python3"
  },
  "language_info": {
   "codemirror_mode": {
    "name": "ipython",
    "version": 3
   },
   "file_extension": ".py",
   "mimetype": "text/x-python",
   "name": "python",
   "nbconvert_exporter": "python",
   "pygments_lexer": "ipython3",
   "version": "3.9.1"
  },
  "orig_nbformat": 4
 },
 "nbformat": 4,
 "nbformat_minor": 2
}
