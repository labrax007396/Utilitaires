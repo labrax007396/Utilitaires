{
 "cells": [
  {
   "cell_type": "code",
   "execution_count": 1,
   "metadata": {},
   "outputs": [],
   "source": [
    "import pandas as pd\n",
    "import csv\n",
    "import os\n",
    "import shutil\n",
    "import commentjson\n",
    "import sys\n",
    "# Librairies personnelles\n",
    "path = os.getcwd()\n",
    "import mlflow\n",
    "from mlflow.tracking import MlflowClient\n",
    "path_to_lib = \"c:/Users/33623/Modeling/packages/src\"\n",
    "sys.path.append(path_to_lib)\n",
    "import importlib\n",
    "from importdata import import_from_influxdb\n",
    "import create_formule_contribution"
   ]
  },
  {
   "cell_type": "markdown",
   "metadata": {},
   "source": [
    "## Lecture json de configuration"
   ]
  },
  {
   "cell_type": "code",
   "execution_count": 2,
   "metadata": {},
   "outputs": [],
   "source": [
    "with open(\"config_contributions/AMF-Galsa1-Conso_Gaz.json\", encoding='utf-8') as file:\n",
    "    contrib_config = commentjson.load(file)"
   ]
  },
  {
   "cell_type": "markdown",
   "metadata": {},
   "source": [
    "## Download et renomage des fichiers onnx"
   ]
  },
  {
   "cell_type": "code",
   "execution_count": 3,
   "metadata": {},
   "outputs": [],
   "source": [
    "mlflow.set_tracking_uri(contrib_config['tracking_dir'])\n",
    "\n",
    "experiment = mlflow.get_experiment_by_name(contrib_config['experiment'])\n",
    "if not experiment:\n",
    "    print(\"Experience mlflow non trouvée\")\n",
    "\n",
    "\n",
    "runs = MlflowClient().search_runs(\n",
    "    experiment_ids = experiment.experiment_id,\n",
    "    filter_string  = \"attributes.`run_name` =\" + \"'\" + contrib_config['run_name'] + \"'\"\n",
    ")\n",
    "\n",
    "if not runs:\n",
    "    print(\"Nom de l'experience ou du run invalide\")\n",
    "\n",
    "# récupération du nom des facteurs\n",
    "\n",
    "rapport_mod_file = mlflow.artifacts.download_artifacts(run_id=runs[0].info.run_id,artifact_path=\"Rapports/rapport_modelisation.json\")\n",
    "with open(rapport_mod_file, encoding='utf-8') as file:\n",
    "    rapport_mod = commentjson.load(file)\n",
    "\n",
    "contrib_config['contribution'] = dict()\n",
    "\n",
    "for df in rapport_mod['dataframe_info']['features']:\n",
    "    if df['used']:\n",
    "        if df['discrete_serie_info'] == None:\n",
    "            contrib_config['contribution'][df['name']] = df['description']\n",
    "        if df['discrete_serie_info'] != None:\n",
    "            list_name = list()\n",
    "            for list_dcat in df['discrete_serie_info']['categorical_variables']:\n",
    "                list_name.append(df['name']+'_'+list_dcat['name'])\n",
    "            contrib_config['contribution'][df['name']] = list_name\n",
    "\n",
    "contrib_config['debut_ref'] = rapport_mod['dataframe_info']['start_date']\n",
    "contrib_config['fin_ref']   = rapport_mod['dataframe_info']['end_date']\n",
    "\n"
   ]
  },
  {
   "cell_type": "code",
   "execution_count": 4,
   "metadata": {},
   "outputs": [],
   "source": [
    "def download_and_rename_onnx(contrib_config,dir_interp,onnx_full_name,onnx_short_name):\n",
    "    import shutil\n",
    "    import os\n",
    "\n",
    "    # Specify the path of the destination directory you want to copy to\n",
    "    destination_directory = contrib_config['dir_formula']+contrib_config['onnx_sub_dir']\n",
    "\n",
    "    old_name = destination_directory + onnx_short_name\n",
    "    new_name = destination_directory + dir_interp + '.' + onnx_short_name\n",
    "\n",
    "    # Use the shutil.copy() method to copy the file to the destination directory\n",
    "    shutil.copy(onnx_full_name, destination_directory)\n",
    "   \n",
    "    os.rename(old_name,new_name)\n",
    "\n",
    "## modèles des contributions\n",
    "\n",
    "for name, desc in contrib_config['contribution'].items():\n",
    "    if type(desc) == list:\n",
    "        for cat in desc:\n",
    "            onnx_short_name = cat+'_shape_test.onnx'\n",
    "            onnx_full_name  = mlflow.artifacts.download_artifacts(run_id=runs[0].info.run_id,artifact_path=\"Interprétation/\"+onnx_short_name)\n",
    "            download_and_rename_onnx(contrib_config,contrib_config['dir_interp'],onnx_full_name,onnx_short_name)\n",
    "    else:\n",
    "        onnx_short_name = name+'_shape_test.onnx'\n",
    "        onnx_full_name  = mlflow.artifacts.download_artifacts(run_id=runs[0].info.run_id,artifact_path=\"Interprétation/\"+onnx_short_name)\n",
    "        download_and_rename_onnx(contrib_config,contrib_config['dir_interp'],onnx_full_name,onnx_short_name)\n",
    "\n",
    "## modèle de l'IPé\n",
    "onnx_short_name = contrib_config['nom_ipe']+'.onnx'\n",
    "onnx_full_name  = mlflow.artifacts.download_artifacts(run_id=runs[0].info.run_id,artifact_path=\"model/\"+onnx_short_name)\n",
    "download_and_rename_onnx(contrib_config,contrib_config['parentmgl_ipe'],onnx_full_name,onnx_short_name)"
   ]
  },
  {
   "cell_type": "code",
   "execution_count": 5,
   "metadata": {},
   "outputs": [
    {
     "data": {
      "text/plain": [
       "'X:\\\\D - ULTIVISION INDUSTRIES\\\\4-ARCELORMITTAL\\\\2- DEPLOIEMENT AMF\\\\2-Projet LOT 2\\\\10-Models\\\\MLFLOW\\\\AMF\\\\FL\\\\GALSA1\\\\ARCTIFACTS\\\\488315413772446454\\\\6c808f3e66324e6cb93a7b07cb68ef11\\\\artifacts\\\\model\\\\Conso_Gaz.onnx'"
      ]
     },
     "execution_count": 5,
     "metadata": {},
     "output_type": "execute_result"
    }
   ],
   "source": [
    "onnx_full_name"
   ]
  },
  {
   "cell_type": "markdown",
   "metadata": {},
   "source": [
    "## Création des tags qui contiendront les modèles onnx des contributions"
   ]
  },
  {
   "cell_type": "code",
   "execution_count": 50,
   "metadata": {},
   "outputs": [],
   "source": [
    "df_formules = create_formule_contribution.create_tags_models(contrib_config=contrib_config, formula_file_name='modelonnx.formula',save_formula_file=True)"
   ]
  },
  {
   "cell_type": "markdown",
   "metadata": {},
   "source": [
    "## Création des formules pour la valeur de référence et l'erreur d'estimation du modèle"
   ]
  },
  {
   "cell_type": "code",
   "execution_count": 12,
   "metadata": {},
   "outputs": [
    {
     "name": "stdout",
     "output_type": "stream",
     "text": [
      "Valeur de référence 19.63 GJ\n"
     ]
    }
   ],
   "source": [
    "import importlib\n",
    "\n",
    "importlib.reload(create_formule_contribution)\n",
    "df_formules = create_formule_contribution.create_tags_erreur_estimation(contrib_config=contrib_config, formula_file_name='erreurestimation.formula',save_formula_file=True)"
   ]
  },
  {
   "cell_type": "markdown",
   "metadata": {},
   "source": [
    "## Création des formules pour les valeurs ajustées des contributions"
   ]
  },
  {
   "cell_type": "code",
   "execution_count": 13,
   "metadata": {},
   "outputs": [],
   "source": [
    "import importlib\n",
    "\n",
    "importlib.reload(create_formule_contribution)\n",
    "df_formules = create_formule_contribution.create_formules_contribu_ajustees(contrib_config=contrib_config, formula_file_name='contribajustees.formula',save_formula_file=True)"
   ]
  },
  {
   "cell_type": "markdown",
   "metadata": {},
   "source": [
    "## Formule Contributions fréquence poste/jour/mois"
   ]
  },
  {
   "cell_type": "code",
   "execution_count": 35,
   "metadata": {},
   "outputs": [],
   "source": [
    "importlib.reload(create_formule_contribution)\n",
    "df_formules = create_formule_contribution.create_formules_contribu_frequences(contrib_config=contrib_config, formula_file_name='contribotherfreq.formula',save_formula_file=True)"
   ]
  },
  {
   "cell_type": "markdown",
   "metadata": {},
   "source": [
    "## Formules contribution par rapport à une période précédente"
   ]
  },
  {
   "cell_type": "code",
   "execution_count": 45,
   "metadata": {},
   "outputs": [],
   "source": [
    "importlib.reload(create_formule_contribution)\n",
    "df_formules = create_formule_contribution.create_formules_contribu_previous_period(contrib_config=contrib_config, formula_file_name='Contrib_Previous_Periods.formula',save_formula_file=True)"
   ]
  },
  {
   "cell_type": "markdown",
   "metadata": {},
   "source": [
    "## Création du composant waterfall du rapport json"
   ]
  },
  {
   "cell_type": "code",
   "execution_count": 50,
   "metadata": {},
   "outputs": [
    {
     "data": {
      "text/plain": [
       "{'experiment': 'AMF-FL-GALSA1-Conso_Gaz',\n",
       " 'run_name': 'delightful-perch-149',\n",
       " 'tracking_dir': 'file:///C:/Users/33623/Dropbox (Ultiwatt)/D - ULTIVISION INDUSTRIES/4-ARCELORMITTAL/2- DEPLOIEMENT AMF/2-Projet LOT 2/10-Models/MLFLOW/AMF/FL/GALSA1/ARCTIFACTS',\n",
       " 'dir_formula': 'C:/Users/33623/Ultiwatt Dropbox/david mouquet/D - ULTIVISION INDUSTRIES/4-ARCELORMITTAL/2- DEPLOIEMENT AMF/7-Projets 2023/1-UES FLO GALSA1/2 -Etudes UW/Contributions/Conso ligne marche/',\n",
       " 'nom_ipe': 'Conso_Gaz',\n",
       " 'des_ipe': 'Conso Gaz BO',\n",
       " 'parentmgl_ipe': 'Tech.FL.Auto_Industrie.Ligne_Galsa1.MO.CH_MT',\n",
       " 'tag_mesure': 'tag_40473',\n",
       " 'tag_model': 'tag_43235',\n",
       " 'tag_ref': 'tag_',\n",
       " 'des_ref': 'Conso Gaz',\n",
       " 'nom_ref': 'Conso_Gaz',\n",
       " 'dir_interp': 'Tech.FL.Auto_Industrie.Ligne_Galsa1.MO.INTERP.Conso_GAZ_LM',\n",
       " 'frequence': 'ProductUnit',\n",
       " 'list_freq': ['ShiftWork', 'Day', 'Month'],\n",
       " 'offset': '5h',\n",
       " 'Unit': 'GJ',\n",
       " 'st_contribs': {'EPAI_MOY': {'tag': 18393, 'used': True, 'lever': False},\n",
       "  'LAR_REA': {'tag': 18394, 'used': True, 'lever': False},\n",
       "  'LG_REA': {'tag': 18395, 'used': True, 'lever': False},\n",
       "  'T_ext': {'tag': 18396, 'used': True, 'lever': False},\n",
       "  'T_sortie_prech': {'tag': 18397, 'used': True, 'lever': False},\n",
       "  'T_bande_sortie_maint': {'tag': 18398, 'used': True, 'lever': False},\n",
       "  'T_bande_sortie_refroid_lent': {'tag': 18399, 'used': True, 'lever': False},\n",
       "  'T_bande_sortie_chauffe': {'tag': 18400, 'used': True, 'lever': False},\n",
       "  'Taux_Allure': {'tag': 18401, 'used': True, 'lever': True},\n",
       "  'FAM_PRODUIT': {'tag': 18404, 'used': True, 'lever': False}},\n",
       " 'st_autre': 18408,\n",
       " 'st_mesure': 18699,\n",
       " 'contribution': {'EPAI_MOY': 'EPAI_MOY',\n",
       "  'LAR_REA': 'LAR_REA',\n",
       "  'LG_REA': 'LG_REA',\n",
       "  'T_ext': 'T_ext',\n",
       "  'T_sortie_prech': 'T_sortie_prech',\n",
       "  'T_bande_sortie_maint': 'T_bande_sortie_maint',\n",
       "  'T_bande_sortie_refroid_lent': 'T_bande_sortie_refroid_lent',\n",
       "  'T_bande_sortie_chauffe': 'T_bande_sortie_chauffe',\n",
       "  'Taux_Allure': 'Taux_Allure',\n",
       "  'FAM_PRODUIT': ['FAM_PRODUIT_EXGA', 'FAM_PRODUIT_GA2F']},\n",
       " 'debut_ref': '2022-03-01 15:24:36',\n",
       " 'fin_ref': '2023-07-09 08:08:19'}"
      ]
     },
     "execution_count": 50,
     "metadata": {},
     "output_type": "execute_result"
    }
   ],
   "source": [
    "contrib_config"
   ]
  },
  {
   "cell_type": "code",
   "execution_count": 54,
   "metadata": {},
   "outputs": [],
   "source": [
    "desc_contrib_incomp = list()\n",
    "desc_contrib_lever  = list()\n",
    "st_contrib_incomp   = list()\n",
    "st_contrib_lever    = list()\n",
    "\n",
    "for desc, d in contrib_config['st_contribs'].items():\n",
    "    if d['used']:\n",
    "        if d['lever']:\n",
    "            desc_contrib_lever.append(desc)\n",
    "            st_contrib_lever.append(d['stag'])\n",
    "        else:\n",
    "            desc_contrib_incomp.append(desc)\n",
    "            st_contrib_incomp.append(d['stag'])            "
   ]
  },
  {
   "cell_type": "code",
   "execution_count": 55,
   "metadata": {},
   "outputs": [
    {
     "data": {
      "text/plain": [
       "[18393, 18394, 18395, 18396, 18397, 18398, 18399, 18400, 18404]"
      ]
     },
     "execution_count": 55,
     "metadata": {},
     "output_type": "execute_result"
    }
   ],
   "source": [
    "st_contrib_incomp"
   ]
  },
  {
   "cell_type": "code",
   "execution_count": 94,
   "metadata": {},
   "outputs": [],
   "source": [
    "FREQ_DAY   = 3\n",
    "FREQ_MONTH = 4\n",
    "FREQ_POSTE = 11\n",
    "\n",
    "list_freq_code = [FREQ_POSTE,FREQ_DAY,FREQ_MONTH]\n",
    "\n",
    "\n",
    "dico_json_graph = dict()\n",
    "\n",
    "json_graph = {\n",
    "\"Title\": \"Variations / moyenne\",\n",
    "\"ArticleGraph\": {\n",
    "    \"GraphType\": \"Waterfall\",\n",
    "    \"Series\": list()\n",
    "}\n",
    "}\n",
    "\n",
    "dico_tags_mesure = import_from_influxdb.GetTagIdFromScopTag(contrib_config['st_mesure'])\n",
    "dico_tags_autre  = import_from_influxdb.GetTagIdFromScopTag(contrib_config['st_autre'])\n",
    "dico_tags_prev   = import_from_influxdb.GetTagIdFromScopTag(contrib_config['st_previous_mesure'])\n",
    "\n",
    "\n",
    "for code_f, freq in zip(list_freq_code, contrib_config['list_freq']):\n",
    "\n",
    "    ### graphes contrib / moyenne\n",
    "\n",
    "    nom_graphe = 'wf_cont_mean_'+freq\n",
    "    current_graphe = {\n",
    "        \"Title\": \"Variations / moyenne\",\n",
    "        \"ArticleGraph\": {\n",
    "            \"GraphType\": \"Waterfall\",\n",
    "            \"Series\": list()\n",
    "        }\n",
    "        }\n",
    "\n",
    "\n",
    "\n",
    "    current_graphe['Title'] = 'Variations / moyenne'\n",
    "    series = list()\n",
    "\n",
    "    for dtm in dico_tags_mesure:\n",
    "        if dtm['Frequency'] == code_f and dtm['TagRole'] == 'Validation':\n",
    "            series.append({\"TagID\":dtm['TagID'],\"Description\":dtm['Name']})\n",
    "    \n",
    "    for st_fact in st_contrib_incomp:\n",
    "        dico_tags_ct = import_from_influxdb.GetTagIdFromScopTag(st_fact)\n",
    "        for dtc in dico_tags_ct:\n",
    "            if dtc['Frequency'] == code_f and dtc['TagRole'] == 'Data':\n",
    "                series.append({\"TagID\":dtc['TagID'],\"Description\":dtc['Name']})    \n",
    "\n",
    "    for st_lever in st_contrib_lever:\n",
    "        dico_tags_ct = import_from_influxdb.GetTagIdFromScopTag(st_lever)\n",
    "        for dtc in dico_tags_ct:\n",
    "            if dtc['Frequency'] == code_f and dtc['TagRole'] == 'Data':\n",
    "                series.append({\"TagID\":dtc['TagID'],\"Description\":dtc['Name']})    \n",
    "\n",
    "\n",
    "    for dt in dico_tags_autre:\n",
    "        if dt['Frequency'] == code_f and dt['TagRole'] == 'Data':\n",
    "            series.append({\"TagID\":dt['TagID'],\"Description\":dt['Name']})\n",
    "\n",
    "\n",
    "    for dtm in dico_tags_mesure:\n",
    "        if dtm['Frequency'] == code_f and dtm['TagRole'] == 'Data':\n",
    "            series.append({\"TagID\":dtm['TagID'],\"Description\":dtm['Name']})\n",
    "\n",
    "    \n",
    "    current_graphe['ArticleGraph']['Series'] = series\n",
    "\n",
    "\n",
    "    dico_json_graph[nom_graphe] = current_graphe\n",
    "\n",
    "\n",
    "\n",
    "    ### graphes contrib / période précédente\n",
    "\n",
    "    nom_graphe = 'wf_cont_previous_'+freq\n",
    "    current_graphe = {\n",
    "        \"Title\": \"Variations / moyenne\",\n",
    "        \"ArticleGraph\": {\n",
    "            \"GraphType\": \"Waterfall\",\n",
    "            \"Series\": list()\n",
    "        }\n",
    "        }\n",
    "    current_graphe['Title'] = 'Variations / période précédente'\n",
    "    series = list()\n",
    "\n",
    "    for dtm in dico_tags_prev:\n",
    "        if dtm['Frequency'] == code_f and dtm['TagRole'] == 'Data':\n",
    "            series.append({\"TagID\":dtm['TagID'],\"Description\":dtm['Name']})\n",
    "    \n",
    "    for st_fact in st_contrib_incomp:\n",
    "        dico_tags_ct = import_from_influxdb.GetTagIdFromScopTag(st_fact)\n",
    "        for dtc in dico_tags_ct:\n",
    "            if dtc['Frequency'] == code_f and dtc['TagRole'] == 'HighestDifference':\n",
    "                series.append({\"TagID\":dtc['TagID'],\"Description\":dtc['Name']})    \n",
    "\n",
    "    for st_lever in st_contrib_lever:\n",
    "        dico_tags_ct = import_from_influxdb.GetTagIdFromScopTag(st_lever)\n",
    "        for dtc in dico_tags_ct:\n",
    "            if dtc['Frequency'] == code_f and dtc['TagRole'] == 'HighestDifference':\n",
    "                series.append({\"TagID\":dtc['TagID'],\"Description\":dtc['Name']})    \n",
    "\n",
    "\n",
    "    for dt in dico_tags_autre:\n",
    "        if dt['Frequency'] == code_f and dt['TagRole'] == 'HighestDifference':\n",
    "            series.append({\"TagID\":dt['TagID'],\"Description\":dt['Name']})\n",
    "\n",
    "\n",
    "    for dtm in dico_tags_mesure:\n",
    "        if dtm['Frequency'] == code_f and dtm['TagRole'] == 'Data':\n",
    "            series.append({\"TagID\":dtm['TagID'],\"Description\":dtm['Name']})\n",
    "\n",
    "    \n",
    "    current_graphe['ArticleGraph']['Series'] = series\n",
    "\n",
    "    dico_json_graph[nom_graphe] = current_graphe\n"
   ]
  },
  {
   "cell_type": "code",
   "execution_count": 97,
   "metadata": {},
   "outputs": [],
   "source": [
    "json_file = contrib_config['dir_formula']+'graphe_component.json'"
   ]
  },
  {
   "cell_type": "code",
   "execution_count": null,
   "metadata": {},
   "outputs": [],
   "source": [
    "import json \n",
    "    \n",
    "    \n",
    "with open(json_file, \"w\") as outfile: \n",
    "    json.dump(dico_json_graph, outfile,indent=4)"
   ]
  },
  {
   "cell_type": "code",
   "execution_count": 95,
   "metadata": {},
   "outputs": [
    {
     "data": {
      "text/plain": [
       "{'wf_cont_mean_ShiftWork': {'Title': 'Variations / moyenne',\n",
       "  'ArticleGraph': {'GraphType': 'Waterfall',\n",
       "   'Series': [{'TagID': 44068, 'Description': 'Conso_Gaz'},\n",
       "    {'TagID': 43262, 'Description': 'EPAI_MOY'},\n",
       "    {'TagID': 43263, 'Description': 'LAR_REA'},\n",
       "    {'TagID': 43264, 'Description': 'LG_REA'},\n",
       "    {'TagID': 43265, 'Description': 'T_ext'},\n",
       "    {'TagID': 43266, 'Description': 'T_sortie_prech'},\n",
       "    {'TagID': 43267, 'Description': 'T_bande_sortie_maint'},\n",
       "    {'TagID': 43268, 'Description': 'T_bande_sortie_refroid_lent'},\n",
       "    {'TagID': 43269, 'Description': 'T_bande_sortie_chauffe'},\n",
       "    {'TagID': 43271, 'Description': 'FAM_PRODUIT'},\n",
       "    {'TagID': 43270, 'Description': 'Taux_Allure'},\n",
       "    {'TagID': 43297, 'Description': 'Autre'},\n",
       "    {'TagID': 44069, 'Description': 'Conso_Gaz'}]}},\n",
       " 'wf_cont_previous_ShiftWork': {'Title': 'Variations / période précédente',\n",
       "  'ArticleGraph': {'GraphType': 'Waterfall',\n",
       "   'Series': [{'TagID': 44107, 'Description': 'Conso_Gaz_Previous'},\n",
       "    {'TagID': 44074, 'Description': 'EPAI_MOY'},\n",
       "    {'TagID': 44075, 'Description': 'LAR_REA'},\n",
       "    {'TagID': 44076, 'Description': 'LG_REA'},\n",
       "    {'TagID': 44077, 'Description': 'T_ext'},\n",
       "    {'TagID': 44078, 'Description': 'T_sortie_prech'},\n",
       "    {'TagID': 44079, 'Description': 'T_bande_sortie_maint'},\n",
       "    {'TagID': 44080, 'Description': 'T_bande_sortie_refroid_lent'},\n",
       "    {'TagID': 44081, 'Description': 'T_bande_sortie_chauffe'},\n",
       "    {'TagID': 44083, 'Description': 'FAM_PRODUIT'},\n",
       "    {'TagID': 44082, 'Description': 'Taux_Allure'},\n",
       "    {'TagID': 44084, 'Description': 'Autre'},\n",
       "    {'TagID': 44069, 'Description': 'Conso_Gaz'}]}},\n",
       " 'wf_cont_mean_Day': {'Title': 'Variations / moyenne',\n",
       "  'ArticleGraph': {'GraphType': 'Waterfall',\n",
       "   'Series': [{'TagID': 44070, 'Description': 'Conso_Gaz'},\n",
       "    {'TagID': 43273, 'Description': 'EPAI_MOY'},\n",
       "    {'TagID': 43274, 'Description': 'LAR_REA'},\n",
       "    {'TagID': 43275, 'Description': 'LG_REA'},\n",
       "    {'TagID': 43276, 'Description': 'T_ext'},\n",
       "    {'TagID': 43277, 'Description': 'T_sortie_prech'},\n",
       "    {'TagID': 43278, 'Description': 'T_bande_sortie_maint'},\n",
       "    {'TagID': 43279, 'Description': 'T_bande_sortie_refroid_lent'},\n",
       "    {'TagID': 43280, 'Description': 'T_bande_sortie_chauffe'},\n",
       "    {'TagID': 43282, 'Description': 'FAM_PRODUIT'},\n",
       "    {'TagID': 43281, 'Description': 'Taux_Allure'},\n",
       "    {'TagID': 43298, 'Description': 'Autre'},\n",
       "    {'TagID': 44071, 'Description': 'Conso_Gaz'}]}},\n",
       " 'wf_cont_previous_Day': {'Title': 'Variations / période précédente',\n",
       "  'ArticleGraph': {'GraphType': 'Waterfall',\n",
       "   'Series': [{'TagID': 44108, 'Description': 'Conso_Gaz_Previous'},\n",
       "    {'TagID': 44085, 'Description': 'EPAI_MOY'},\n",
       "    {'TagID': 44086, 'Description': 'LAR_REA'},\n",
       "    {'TagID': 44087, 'Description': 'LG_REA'},\n",
       "    {'TagID': 44088, 'Description': 'T_ext'},\n",
       "    {'TagID': 44089, 'Description': 'T_sortie_prech'},\n",
       "    {'TagID': 44090, 'Description': 'T_bande_sortie_maint'},\n",
       "    {'TagID': 44091, 'Description': 'T_bande_sortie_refroid_lent'},\n",
       "    {'TagID': 44092, 'Description': 'T_bande_sortie_chauffe'},\n",
       "    {'TagID': 44094, 'Description': 'FAM_PRODUIT'},\n",
       "    {'TagID': 44093, 'Description': 'Taux_Allure'},\n",
       "    {'TagID': 44095, 'Description': 'Autre'},\n",
       "    {'TagID': 44071, 'Description': 'Conso_Gaz'}]}},\n",
       " 'wf_cont_mean_Month': {'Title': 'Variations / moyenne',\n",
       "  'ArticleGraph': {'GraphType': 'Waterfall',\n",
       "   'Series': [{'TagID': 44072, 'Description': 'Conso_Gaz'},\n",
       "    {'TagID': 43284, 'Description': 'EPAI_MOY'},\n",
       "    {'TagID': 43285, 'Description': 'LAR_REA'},\n",
       "    {'TagID': 43286, 'Description': 'LG_REA'},\n",
       "    {'TagID': 43287, 'Description': 'T_ext'},\n",
       "    {'TagID': 43288, 'Description': 'T_sortie_prech'},\n",
       "    {'TagID': 43289, 'Description': 'T_bande_sortie_maint'},\n",
       "    {'TagID': 43290, 'Description': 'T_bande_sortie_refroid_lent'},\n",
       "    {'TagID': 43291, 'Description': 'T_bande_sortie_chauffe'},\n",
       "    {'TagID': 43293, 'Description': 'FAM_PRODUIT'},\n",
       "    {'TagID': 43292, 'Description': 'Taux_Allure'},\n",
       "    {'TagID': 43299, 'Description': 'Autre'},\n",
       "    {'TagID': 44073, 'Description': 'Conso_Gaz'}]}},\n",
       " 'wf_cont_previous_Month': {'Title': 'Variations / période précédente',\n",
       "  'ArticleGraph': {'GraphType': 'Waterfall',\n",
       "   'Series': [{'TagID': 44109, 'Description': 'Conso_Gaz_Previous'},\n",
       "    {'TagID': 44096, 'Description': 'EPAI_MOY'},\n",
       "    {'TagID': 44097, 'Description': 'LAR_REA'},\n",
       "    {'TagID': 44098, 'Description': 'LG_REA'},\n",
       "    {'TagID': 44099, 'Description': 'T_ext'},\n",
       "    {'TagID': 44100, 'Description': 'T_sortie_prech'},\n",
       "    {'TagID': 44101, 'Description': 'T_bande_sortie_maint'},\n",
       "    {'TagID': 44102, 'Description': 'T_bande_sortie_refroid_lent'},\n",
       "    {'TagID': 44103, 'Description': 'T_bande_sortie_chauffe'},\n",
       "    {'TagID': 44105, 'Description': 'FAM_PRODUIT'},\n",
       "    {'TagID': 44104, 'Description': 'Taux_Allure'},\n",
       "    {'TagID': 44106, 'Description': 'Autre'},\n",
       "    {'TagID': 44073, 'Description': 'Conso_Gaz'}]}}}"
      ]
     },
     "execution_count": 95,
     "metadata": {},
     "output_type": "execute_result"
    }
   ],
   "source": [
    "dico_json_graph"
   ]
  },
  {
   "cell_type": "code",
   "execution_count": 77,
   "metadata": {},
   "outputs": [
    {
     "data": {
      "text/plain": [
       "[{'TagID': 43282,\n",
       "  'ParentID': 18404,\n",
       "  'TagDataType': 'Numeric',\n",
       "  'TagRole': 'Data',\n",
       "  'Name': 'FAM_PRODUIT',\n",
       "  'Mangling': 'Tech.FL.Auto_Industrie.Ligne_Galsa1.MO.INTERP.Conso_GAZ_LM.FAM_PRODUIT.Day',\n",
       "  'Unit': 'GJ',\n",
       "  'NumberPrecision': 0,\n",
       "  'LastRefresh': '2023-11-02T14:56:40.6798988',\n",
       "  'LastUpdateUtc': '2023-10-01T05:00:00',\n",
       "  'Description': 'Tech.FL.Auto_Industrie.Ligne_Galsa1.MO.INTERP.Conso_GAZ_LM - FAM_PRODUIT [d]',\n",
       "  'Expression': '[Tech.FL.Auto_Industrie.Ligne_Galsa1.MO.INTERP.Conso_GAZ_LM.FAM_PRODUIT.ProductUnit].Average(\"1d\",\"5h\")',\n",
       "  'LastValue': 0.005567802398838576,\n",
       "  'Frequency': 3,\n",
       "  'AggregationMethod': 'Average',\n",
       "  'RefreshInterval': '1h',\n",
       "  'UncertaintyInterval': '10d',\n",
       "  'DimensionValues': []},\n",
       " {'TagID': 44094,\n",
       "  'ParentID': 18404,\n",
       "  'TagDataType': 'Numeric',\n",
       "  'TagRole': 'HighestDifference',\n",
       "  'Name': 'FAM_PRODUIT',\n",
       "  'Mangling': 'Tech.FL.Auto_Industrie.Ligne_Galsa1.MO.INTERP.Conso_GAZ_LM.FAM_PRODUIT.Day.HighestDifference',\n",
       "  'Unit': 'GJ',\n",
       "  'NumberPrecision': 0,\n",
       "  'LastRefresh': '2023-11-02T15:19:25.9455092',\n",
       "  'LastUpdateUtc': '2023-10-01T05:00:00',\n",
       "  'Description': 'Tech.FL.Auto_Industrie.Ligne_Galsa1.MO.INTERP.Conso_GAZ_LM - FAM_PRODUIT (Différence historique) [d]',\n",
       "  'Expression': '[Tech.FL.Auto_Industrie.Ligne_Galsa1.MO.INTERP.Conso_GAZ_LM.FAM_PRODUIT.Day]-[Tech.FL.Auto_Industrie.Ligne_Galsa1.MO.INTERP.Conso_GAZ_LM.FAM_PRODUIT.Day].AddPeriod(\"1d\")',\n",
       "  'LastValue': 0.012546984094600123,\n",
       "  'Frequency': 3,\n",
       "  'AggregationMethod': 'Average',\n",
       "  'RefreshInterval': '1h',\n",
       "  'UncertaintyInterval': '10d',\n",
       "  'DimensionValues': []},\n",
       " {'TagID': 43293,\n",
       "  'ParentID': 18404,\n",
       "  'TagDataType': 'Numeric',\n",
       "  'TagRole': 'Data',\n",
       "  'Name': 'FAM_PRODUIT',\n",
       "  'Mangling': 'Tech.FL.Auto_Industrie.Ligne_Galsa1.MO.INTERP.Conso_GAZ_LM.FAM_PRODUIT.Month',\n",
       "  'Unit': 'GJ',\n",
       "  'NumberPrecision': 0,\n",
       "  'LastRefresh': '2023-11-02T14:56:42.6360769',\n",
       "  'LastUpdateUtc': '2023-10-01T05:00:00',\n",
       "  'Description': 'Tech.FL.Auto_Industrie.Ligne_Galsa1.MO.INTERP.Conso_GAZ_LM - FAM_PRODUIT [M]',\n",
       "  'Expression': '[Tech.FL.Auto_Industrie.Ligne_Galsa1.MO.INTERP.Conso_GAZ_LM.FAM_PRODUIT.ProductUnit].Average(\"1M\",\"5h\")',\n",
       "  'LastValue': 0.005567802398838576,\n",
       "  'Frequency': 4,\n",
       "  'AggregationMethod': 'Average',\n",
       "  'RefreshInterval': '4h',\n",
       "  'UncertaintyInterval': '60d',\n",
       "  'DimensionValues': []},\n",
       " {'TagID': 44105,\n",
       "  'ParentID': 18404,\n",
       "  'TagDataType': 'Numeric',\n",
       "  'TagRole': 'HighestDifference',\n",
       "  'Name': 'FAM_PRODUIT',\n",
       "  'Mangling': 'Tech.FL.Auto_Industrie.Ligne_Galsa1.MO.INTERP.Conso_GAZ_LM.FAM_PRODUIT.Month.HighestDifference',\n",
       "  'Unit': 'GJ',\n",
       "  'NumberPrecision': 0,\n",
       "  'LastRefresh': '2023-11-02T15:19:27.0286254',\n",
       "  'LastUpdateUtc': '2023-10-01T05:00:00',\n",
       "  'Description': 'Tech.FL.Auto_Industrie.Ligne_Galsa1.MO.INTERP.Conso_GAZ_LM - FAM_PRODUIT (Différence historique) [M]',\n",
       "  'Expression': '[Tech.FL.Auto_Industrie.Ligne_Galsa1.MO.INTERP.Conso_GAZ_LM.FAM_PRODUIT.Month]-[Tech.FL.Auto_Industrie.Ligne_Galsa1.MO.INTERP.Conso_GAZ_LM.FAM_PRODUIT.Month].AddPeriod(\"1M\")',\n",
       "  'LastValue': 0.009212662905165765,\n",
       "  'Frequency': 4,\n",
       "  'AggregationMethod': 'Average',\n",
       "  'RefreshInterval': '4h',\n",
       "  'UncertaintyInterval': '60d',\n",
       "  'DimensionValues': []},\n",
       " {'TagID': 43259,\n",
       "  'ParentID': 18404,\n",
       "  'TagDataType': 'Numeric',\n",
       "  'TagRole': 'Data',\n",
       "  'Name': 'FAM_PRODUIT',\n",
       "  'Mangling': 'Tech.FL.Auto_Industrie.Ligne_Galsa1.MO.INTERP.Conso_GAZ_LM.FAM_PRODUIT.ProductUnit',\n",
       "  'Unit': 'GJ',\n",
       "  'NumberPrecision': 0,\n",
       "  'LastRefresh': '2023-11-02T15:27:07.084143',\n",
       "  'LastUpdateUtc': '2023-10-01T14:10:37',\n",
       "  'Description': 'Tech.FL.Auto_Industrie.Ligne_Galsa1.MO.INTERP.Conso_GAZ_LM - FAM_PRODUIT [p]',\n",
       "  'Expression': '[Tech.FL.Auto_Industrie.Ligne_Galsa1.MO.INTERP.Conso_GAZ_LM.FAM_PRODUIT.ProductUnit.NormalizationRecalc]-[Tech.FL.Auto_Industrie.Ligne_Galsa1.MO.INTERP.Conso_GAZ_LM.Erreur_estimation.ProductUnit]*[Tech.FL.Auto_Industrie.Ligne_Galsa1.MO.INTERP.Conso_GAZ_LM.FAM_PRODUIT.ProductUnit.NormalizationRecalc].Abs()/[Tech.FL.Auto_Industrie.Ligne_Galsa1.MO.INTERP.Conso_GAZ_LM.Somme_contributions.ProductUnit]',\n",
       "  'LastValue': 0.18674676425091058,\n",
       "  'Frequency': 10,\n",
       "  'AggregationMethod': 'Average',\n",
       "  'RefreshInterval': '1m',\n",
       "  'UncertaintyInterval': '15m',\n",
       "  'DimensionValues': []},\n",
       " {'TagID': 43247,\n",
       "  'ParentID': 18404,\n",
       "  'TagDataType': 'Numeric',\n",
       "  'TagRole': 'NormalizationRecalc',\n",
       "  'Name': 'FAM_PRODUIT',\n",
       "  'Mangling': 'Tech.FL.Auto_Industrie.Ligne_Galsa1.MO.INTERP.Conso_GAZ_LM.FAM_PRODUIT.ProductUnit.NormalizationRecalc',\n",
       "  'Unit': 'GJ',\n",
       "  'NumberPrecision': 0,\n",
       "  'LastRefresh': '2023-11-02T15:27:06.5383364',\n",
       "  'LastUpdateUtc': '2023-10-01T14:10:37',\n",
       "  'Description': 'Tech.FL.Auto_Industrie.Ligne_Galsa1.MO.INTERP.Conso_GAZ_LM - FAM_PRODUIT (Référence recalculée) [p]',\n",
       "  'Expression': '[Tech.FL.Auto_Industrie.Ligne_Galsa1.MO.INTERP.Conso_GAZ_LM.FAM_PRODUIT_EXGA.ProductUnit.NormalizationRecalc]+[Tech.FL.Auto_Industrie.Ligne_Galsa1.MO.INTERP.Conso_GAZ_LM.FAM_PRODUIT_GA2F.ProductUnit.NormalizationRecalc]',\n",
       "  'LastValue': 0.20929575711488724,\n",
       "  'Frequency': 10,\n",
       "  'AggregationMethod': 'Average',\n",
       "  'RefreshInterval': '1m',\n",
       "  'UncertaintyInterval': '15m',\n",
       "  'DimensionValues': []},\n",
       " {'TagID': 43271,\n",
       "  'ParentID': 18404,\n",
       "  'TagDataType': 'Numeric',\n",
       "  'TagRole': 'Data',\n",
       "  'Name': 'FAM_PRODUIT',\n",
       "  'Mangling': 'Tech.FL.Auto_Industrie.Ligne_Galsa1.MO.INTERP.Conso_GAZ_LM.FAM_PRODUIT.ShiftWork',\n",
       "  'Unit': 'GJ',\n",
       "  'NumberPrecision': 1,\n",
       "  'LastRefresh': '2023-11-02T14:56:39.4496639',\n",
       "  'LastUpdateUtc': '2023-10-01T13:00:00',\n",
       "  'Description': 'Tech.FL.Auto_Industrie.Ligne_Galsa1.MO.INTERP.Conso_GAZ_LM - FAM_PRODUIT ',\n",
       "  'Expression': '[Tech.FL.Auto_Industrie.Ligne_Galsa1.MO.INTERP.Conso_GAZ_LM.FAM_PRODUIT.ProductUnit].Average(\"8h\",\"5h\")',\n",
       "  'LastValue': 0.04194423017060749,\n",
       "  'Frequency': 11,\n",
       "  'AggregationMethod': 'Average',\n",
       "  'RefreshInterval': '4h',\n",
       "  'UncertaintyInterval': '60d',\n",
       "  'LookAhead': '0m',\n",
       "  'DimensionValues': []},\n",
       " {'TagID': 44083,\n",
       "  'ParentID': 18404,\n",
       "  'TagDataType': 'Numeric',\n",
       "  'TagRole': 'HighestDifference',\n",
       "  'Name': 'FAM_PRODUIT',\n",
       "  'Mangling': 'Tech.FL.Auto_Industrie.Ligne_Galsa1.MO.INTERP.Conso_GAZ_LM.FAM_PRODUIT.ShiftWork.HighestDifference',\n",
       "  'Unit': 'GJ',\n",
       "  'NumberPrecision': 0,\n",
       "  'LastRefresh': '2023-11-02T15:19:24.8167713',\n",
       "  'LastUpdateUtc': '2023-10-01T13:00:00',\n",
       "  'Description': 'Tech.FL.Auto_Industrie.Ligne_Galsa1.MO.INTERP.Conso_GAZ_LM - FAM_PRODUIT (Différence historique) ',\n",
       "  'Expression': '[Tech.FL.Auto_Industrie.Ligne_Galsa1.MO.INTERP.Conso_GAZ_LM.FAM_PRODUIT.ShiftWork]-[Tech.FL.Auto_Industrie.Ligne_Galsa1.MO.INTERP.Conso_GAZ_LM.FAM_PRODUIT.ShiftWork].AddPeriod(\"8h\")',\n",
       "  'LastValue': 0.041573060310593046,\n",
       "  'Frequency': 11,\n",
       "  'AggregationMethod': 'Average',\n",
       "  'RefreshInterval': '4h',\n",
       "  'UncertaintyInterval': '60d',\n",
       "  'DimensionValues': []}]"
      ]
     },
     "execution_count": 77,
     "metadata": {},
     "output_type": "execute_result"
    }
   ],
   "source": [
    "dico_tags_ct"
   ]
  },
  {
   "cell_type": "code",
   "execution_count": 76,
   "metadata": {},
   "outputs": [
    {
     "data": {
      "text/plain": [
       "[{'TagID': 44072, 'Description': 'Conso_Gaz'},\n",
       " {'TagID': 43284, 'Description': 'EPAI_MOY'},\n",
       " {'TagID': 43285, 'Description': 'LAR_REA'},\n",
       " {'TagID': 43286, 'Description': 'LG_REA'},\n",
       " {'TagID': 43287, 'Description': 'T_ext'},\n",
       " {'TagID': 43288, 'Description': 'T_sortie_prech'},\n",
       " {'TagID': 43289, 'Description': 'T_bande_sortie_maint'},\n",
       " {'TagID': 43290, 'Description': 'T_bande_sortie_refroid_lent'},\n",
       " {'TagID': 43291, 'Description': 'T_bande_sortie_chauffe'},\n",
       " {'TagID': 43293, 'Description': 'FAM_PRODUIT'},\n",
       " {'TagID': 43284, 'Description': 'EPAI_MOY'},\n",
       " {'TagID': 43285, 'Description': 'LAR_REA'},\n",
       " {'TagID': 43286, 'Description': 'LG_REA'},\n",
       " {'TagID': 43287, 'Description': 'T_ext'},\n",
       " {'TagID': 43288, 'Description': 'T_sortie_prech'},\n",
       " {'TagID': 43289, 'Description': 'T_bande_sortie_maint'},\n",
       " {'TagID': 43290, 'Description': 'T_bande_sortie_refroid_lent'},\n",
       " {'TagID': 43291, 'Description': 'T_bande_sortie_chauffe'},\n",
       " {'TagID': 43293, 'Description': 'FAM_PRODUIT'}]"
      ]
     },
     "execution_count": 76,
     "metadata": {},
     "output_type": "execute_result"
    }
   ],
   "source": [
    "series"
   ]
  },
  {
   "cell_type": "code",
   "execution_count": 69,
   "metadata": {},
   "outputs": [],
   "source": [
    "json_graph = {\n",
    "\"Title\": \"Variations / moyenne\",\n",
    "\"ArticleGraph\": {\n",
    "    \"GraphType\": \"Waterfall\",\n",
    "    \"Series\": list()\n",
    "}\n",
    "}\n"
   ]
  },
  {
   "cell_type": "code",
   "execution_count": 71,
   "metadata": {},
   "outputs": [
    {
     "data": {
      "text/plain": [
       "[]"
      ]
     },
     "execution_count": 71,
     "metadata": {},
     "output_type": "execute_result"
    }
   ],
   "source": [
    "json_graph['ArticleGraph']['Series']"
   ]
  },
  {
   "cell_type": "code",
   "execution_count": null,
   "metadata": {},
   "outputs": [],
   "source": [
    "json_graph.copy()"
   ]
  },
  {
   "cell_type": "code",
   "execution_count": 66,
   "metadata": {},
   "outputs": [
    {
     "data": {
      "text/plain": [
       "6"
      ]
     },
     "execution_count": 66,
     "metadata": {},
     "output_type": "execute_result"
    }
   ],
   "source": [
    "len(tags_mesure)"
   ]
  },
  {
   "cell_type": "code",
   "execution_count": 56,
   "metadata": {},
   "outputs": [],
   "source": [
    "tags = import_from_influxdb.GetTagIdFromScopTag(18393)"
   ]
  },
  {
   "cell_type": "code",
   "execution_count": 61,
   "metadata": {},
   "outputs": [
    {
     "data": {
      "text/plain": [
       "{'TagID': 43262,\n",
       " 'ParentID': 18393,\n",
       " 'TagDataType': 'Numeric',\n",
       " 'TagRole': 'Data',\n",
       " 'Name': 'EPAI_MOY',\n",
       " 'Mangling': 'Tech.FL.Auto_Industrie.Ligne_Galsa1.MO.INTERP.Conso_GAZ_LM.EPAI_MOY.ShiftWork',\n",
       " 'Unit': 'GJ',\n",
       " 'NumberPrecision': 1,\n",
       " 'LastRefresh': '2023-11-02T14:56:38.8838713',\n",
       " 'LastUpdateUtc': '2023-10-01T13:00:00',\n",
       " 'Description': 'Tech.FL.Auto_Industrie.Ligne_Galsa1.MO.INTERP.Conso_GAZ_LM - EPAI_MOY ',\n",
       " 'Expression': '[Tech.FL.Auto_Industrie.Ligne_Galsa1.MO.INTERP.Conso_GAZ_LM.EPAI_MOY.ProductUnit].Average(\"8h\",\"5h\")',\n",
       " 'LastValue': -0.8339085135180777,\n",
       " 'Frequency': 11,\n",
       " 'AggregationMethod': 'Average',\n",
       " 'RefreshInterval': '4h',\n",
       " 'UncertaintyInterval': '60d',\n",
       " 'LookAhead': '0m',\n",
       " 'DimensionValues': []}"
      ]
     },
     "execution_count": 61,
     "metadata": {},
     "output_type": "execute_result"
    }
   ],
   "source": [
    "tags[6]"
   ]
  },
  {
   "cell_type": "code",
   "execution_count": 59,
   "metadata": {},
   "outputs": [
    {
     "data": {
      "text/plain": [
       "8"
      ]
     },
     "execution_count": 59,
     "metadata": {},
     "output_type": "execute_result"
    }
   ],
   "source": [
    "len(tags)"
   ]
  },
  {
   "cell_type": "code",
   "execution_count": null,
   "metadata": {},
   "outputs": [],
   "source": []
  }
 ],
 "metadata": {
  "kernelspec": {
   "display_name": "Python 3",
   "language": "python",
   "name": "python3"
  },
  "language_info": {
   "codemirror_mode": {
    "name": "ipython",
    "version": 3
   },
   "file_extension": ".py",
   "mimetype": "text/x-python",
   "name": "python",
   "nbconvert_exporter": "python",
   "pygments_lexer": "ipython3",
   "version": "3.9.1"
  },
  "orig_nbformat": 4
 },
 "nbformat": 4,
 "nbformat_minor": 2
}
