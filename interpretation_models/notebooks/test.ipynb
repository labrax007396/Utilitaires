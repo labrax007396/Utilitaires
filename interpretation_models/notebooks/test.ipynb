{
 "cells": [
  {
   "cell_type": "code",
   "execution_count": 12,
   "metadata": {},
   "outputs": [
    {
     "data": {
      "text/plain": [
       "<module 'compute_shape_values' from 'c:\\\\Users\\\\33623\\\\Modeling\\\\CREATE PACKAGE\\\\compute_shape_values.py'>"
      ]
     },
     "execution_count": 12,
     "metadata": {},
     "output_type": "execute_result"
    }
   ],
   "source": [
    "import compute_shape_values as compshape\n",
    "import importlib\n",
    "importlib.reload(compshape)"
   ]
  },
  {
   "cell_type": "code",
   "execution_count": 19,
   "metadata": {},
   "outputs": [],
   "source": [
    "file_model_config = \"data/model_config.json\"\n",
    "file_model_pkl = \"data/model.pkl\"\n",
    "start_date  = \"12/04/2023  00:00:00\"\n",
    "end_date    = \"14/04/2023  11:00:00\""
   ]
  },
  {
   "cell_type": "code",
   "execution_count": 34,
   "metadata": {},
   "outputs": [],
   "source": [
    "import datetime\n",
    "\n",
    "start_date  = \"12/04/2020  00:00:00\"\n",
    "DATE_FORMAT = '%d/%m/%Y %H:%M:%S'\n",
    "\n",
    "try:\n",
    "    start_date = datetime.datetime.strptime(start_date, DATE_FORMAT).isoformat()\n",
    "except ValueError as ve:\n",
    "    print(\"La date de début: \" + start_date + ''' n'est pas au format ''' + DATE_FORMAT)\n",
    "\n"
   ]
  },
  {
   "cell_type": "code",
   "execution_count": 48,
   "metadata": {},
   "outputs": [],
   "source": [
    "import pickle\n",
    "model = pickle.load(open(file_model_pkl, 'rb'))"
   ]
  },
  {
   "cell_type": "code",
   "execution_count": 64,
   "metadata": {},
   "outputs": [
    {
     "data": {
      "text/html": [
       "<style>#sk-container-id-3 {color: black;background-color: white;}#sk-container-id-3 pre{padding: 0;}#sk-container-id-3 div.sk-toggleable {background-color: white;}#sk-container-id-3 label.sk-toggleable__label {cursor: pointer;display: block;width: 100%;margin-bottom: 0;padding: 0.3em;box-sizing: border-box;text-align: center;}#sk-container-id-3 label.sk-toggleable__label-arrow:before {content: \"▸\";float: left;margin-right: 0.25em;color: #696969;}#sk-container-id-3 label.sk-toggleable__label-arrow:hover:before {color: black;}#sk-container-id-3 div.sk-estimator:hover label.sk-toggleable__label-arrow:before {color: black;}#sk-container-id-3 div.sk-toggleable__content {max-height: 0;max-width: 0;overflow: hidden;text-align: left;background-color: #f0f8ff;}#sk-container-id-3 div.sk-toggleable__content pre {margin: 0.2em;color: black;border-radius: 0.25em;background-color: #f0f8ff;}#sk-container-id-3 input.sk-toggleable__control:checked~div.sk-toggleable__content {max-height: 200px;max-width: 100%;overflow: auto;}#sk-container-id-3 input.sk-toggleable__control:checked~label.sk-toggleable__label-arrow:before {content: \"▾\";}#sk-container-id-3 div.sk-estimator input.sk-toggleable__control:checked~label.sk-toggleable__label {background-color: #d4ebff;}#sk-container-id-3 div.sk-label input.sk-toggleable__control:checked~label.sk-toggleable__label {background-color: #d4ebff;}#sk-container-id-3 input.sk-hidden--visually {border: 0;clip: rect(1px 1px 1px 1px);clip: rect(1px, 1px, 1px, 1px);height: 1px;margin: -1px;overflow: hidden;padding: 0;position: absolute;width: 1px;}#sk-container-id-3 div.sk-estimator {font-family: monospace;background-color: #f0f8ff;border: 1px dotted black;border-radius: 0.25em;box-sizing: border-box;margin-bottom: 0.5em;}#sk-container-id-3 div.sk-estimator:hover {background-color: #d4ebff;}#sk-container-id-3 div.sk-parallel-item::after {content: \"\";width: 100%;border-bottom: 1px solid gray;flex-grow: 1;}#sk-container-id-3 div.sk-label:hover label.sk-toggleable__label {background-color: #d4ebff;}#sk-container-id-3 div.sk-serial::before {content: \"\";position: absolute;border-left: 1px solid gray;box-sizing: border-box;top: 0;bottom: 0;left: 50%;z-index: 0;}#sk-container-id-3 div.sk-serial {display: flex;flex-direction: column;align-items: center;background-color: white;padding-right: 0.2em;padding-left: 0.2em;position: relative;}#sk-container-id-3 div.sk-item {position: relative;z-index: 1;}#sk-container-id-3 div.sk-parallel {display: flex;align-items: stretch;justify-content: center;background-color: white;position: relative;}#sk-container-id-3 div.sk-item::before, #sk-container-id-3 div.sk-parallel-item::before {content: \"\";position: absolute;border-left: 1px solid gray;box-sizing: border-box;top: 0;bottom: 0;left: 50%;z-index: -1;}#sk-container-id-3 div.sk-parallel-item {display: flex;flex-direction: column;z-index: 1;position: relative;background-color: white;}#sk-container-id-3 div.sk-parallel-item:first-child::after {align-self: flex-end;width: 50%;}#sk-container-id-3 div.sk-parallel-item:last-child::after {align-self: flex-start;width: 50%;}#sk-container-id-3 div.sk-parallel-item:only-child::after {width: 0;}#sk-container-id-3 div.sk-dashed-wrapped {border: 1px dashed gray;margin: 0 0.4em 0.5em 0.4em;box-sizing: border-box;padding-bottom: 0.4em;background-color: white;}#sk-container-id-3 div.sk-label label {font-family: monospace;font-weight: bold;display: inline-block;line-height: 1.2em;}#sk-container-id-3 div.sk-label-container {text-align: center;}#sk-container-id-3 div.sk-container {/* jupyter's `normalize.less` sets `[hidden] { display: none; }` but bootstrap.min.css set `[hidden] { display: none !important; }` so we also need the `!important` here to be able to override the default hidden behavior on the sphinx rendered scikit-learn.org. See: https://github.com/scikit-learn/scikit-learn/issues/21755 */display: inline-block !important;position: relative;}#sk-container-id-3 div.sk-text-repr-fallback {display: none;}</style><div id=\"sk-container-id-3\" class=\"sk-top-container\"><div class=\"sk-text-repr-fallback\"><pre>LinearRegression()</pre><b>In a Jupyter environment, please rerun this cell to show the HTML representation or trust the notebook. <br />On GitHub, the HTML representation is unable to render, please try loading this page with nbviewer.org.</b></div><div class=\"sk-container\" hidden><div class=\"sk-item\"><div class=\"sk-estimator sk-toggleable\"><input class=\"sk-toggleable__control sk-hidden--visually\" id=\"sk-estimator-id-13\" type=\"checkbox\" checked><label for=\"sk-estimator-id-13\" class=\"sk-toggleable__label sk-toggleable__label-arrow\">LinearRegression</label><div class=\"sk-toggleable__content\"><pre>LinearRegression()</pre></div></div></div></div></div>"
      ],
      "text/plain": [
       "LinearRegression()"
      ]
     },
     "execution_count": 64,
     "metadata": {},
     "output_type": "execute_result"
    }
   ],
   "source": [
    "from sklearn.linear_model import LinearRegression\n",
    "import pandas as pd\n",
    "\n",
    "data = pd.DataFrame(data={'target':[5, 7 ,9],'x1':[7,1,2],'x2':[4,6,8]})\n",
    "\n",
    "model = LinearRegression()\n",
    "model.fit(X=data[['x1','x2']],y=data['target'])"
   ]
  },
  {
   "cell_type": "code",
   "execution_count": 70,
   "metadata": {},
   "outputs": [
    {
     "data": {
      "text/plain": [
       "True"
      ]
     },
     "execution_count": 70,
     "metadata": {},
     "output_type": "execute_result"
    }
   ],
   "source": [
    "set(model.feature_names_in_)=={'x1', 'x2'}"
   ]
  },
  {
   "cell_type": "code",
   "execution_count": 73,
   "metadata": {},
   "outputs": [],
   "source": [
    "f1 = {'x1', 'x2','x3'}\n",
    "f2 = {'x2','x3','x4'}\n",
    "\n",
    "set1 = f2-f1\n",
    "set2 = f1-f2\n"
   ]
  },
  {
   "cell_type": "code",
   "execution_count": 76,
   "metadata": {},
   "outputs": [
    {
     "name": "stdout",
     "output_type": "stream",
     "text": [
      "{'x4'}\n",
      "x4\n"
     ]
    }
   ],
   "source": [
    "if len(set1) >0:\n",
    "    print(set1)\n",
    "    print(' '.join(list(set1)))"
   ]
  },
  {
   "cell_type": "code",
   "execution_count": 59,
   "metadata": {},
   "outputs": [
    {
     "data": {
      "text/plain": [
       "['EPAI_VISEE',\n",
       " 'LARG_VISEE',\n",
       " 'LONG_MES',\n",
       " 'M1_ACIER',\n",
       " 'OF_RVTTYPE',\n",
       " 'T_B_PR_MO',\n",
       " 'T_ext']"
      ]
     },
     "execution_count": 59,
     "metadata": {},
     "output_type": "execute_result"
    }
   ],
   "source": [
    "list(model.steps[0][1].feature_names_in_)"
   ]
  },
  {
   "cell_type": "code",
   "execution_count": null,
   "metadata": {},
   "outputs": [],
   "source": []
  },
  {
   "cell_type": "code",
   "execution_count": 61,
   "metadata": {},
   "outputs": [
    {
     "data": {
      "text/plain": [
       "['Column_0',\n",
       " 'Column_1',\n",
       " 'Column_2',\n",
       " 'Column_3',\n",
       " 'Column_4',\n",
       " 'Column_5',\n",
       " 'Column_6',\n",
       " 'Column_7',\n",
       " 'Column_8',\n",
       " 'Column_9',\n",
       " 'Column_10',\n",
       " 'Column_11',\n",
       " 'Column_12',\n",
       " 'Column_13',\n",
       " 'Column_14',\n",
       " 'Column_15',\n",
       " 'Column_16',\n",
       " 'Column_17',\n",
       " 'Column_18',\n",
       " 'Column_19',\n",
       " 'Column_20',\n",
       " 'Column_21',\n",
       " 'Column_22',\n",
       " 'Column_23',\n",
       " 'Column_24',\n",
       " 'Column_25',\n",
       " 'Column_26',\n",
       " 'Column_27',\n",
       " 'Column_28',\n",
       " 'Column_29',\n",
       " 'Column_30',\n",
       " 'Column_31',\n",
       " 'Column_32',\n",
       " 'Column_33',\n",
       " 'Column_34',\n",
       " 'Column_35',\n",
       " 'Column_36',\n",
       " 'Column_37',\n",
       " 'Column_38',\n",
       " 'Column_39',\n",
       " 'Column_40',\n",
       " 'Column_41']"
      ]
     },
     "execution_count": 61,
     "metadata": {},
     "output_type": "execute_result"
    }
   ],
   "source": [
    "model.steps[1][1].feature_name_"
   ]
  },
  {
   "cell_type": "code",
   "execution_count": 41,
   "metadata": {},
   "outputs": [],
   "source": [
    "import commentjson\n",
    "\n",
    "try:\n",
    "  with open(\"data/model_config.json\", encoding='utf-8') as file:\n",
    "        dico_model = commentjson.load(file)\n",
    "except Exception as error:\n",
    "  print(\"An error occurred:\", type(error).__name__)"
   ]
  },
  {
   "cell_type": "code",
   "execution_count": 45,
   "metadata": {},
   "outputs": [
    {
     "data": {
      "text/plain": [
       "40310"
      ]
     },
     "execution_count": 45,
     "metadata": {},
     "output_type": "execute_result"
    }
   ],
   "source": [
    "int(dico_model['tag_modelise'][4:])\n",
    " "
   ]
  },
  {
   "cell_type": "code",
   "execution_count": 47,
   "metadata": {},
   "outputs": [
    {
     "name": "stdout",
     "output_type": "stream",
     "text": [
      "{'used': True, 'type': 'num', 'unit': 'mm*100', 'nom': 'EPAI_VISEE', 'seuil-min': 0.0, 'description': 'Epaisseur bobine'} tag_39504\n",
      "{'used': True, 'type': 'num', 'unit': 'mm', 'nom': 'LARG_VISEE', 'seuil-min': 0.0, 'description': 'Largeur bobine'} tag_39505\n",
      "{'used': True, 'type': 'num', 'unit': 'm', 'nom': 'LONG_MES', 'seuil-min': 0.0, 'description': 'Longueur bobine'} tag_39506\n",
      "{'used': True, 'type': 'cat', 'unit': '', 'nom': 'M1_ACIER', 'description': \"Type d'acier\"} tag_39502\n",
      "{'used': True, 'type': 'cat', 'unit': '', 'nom': 'OF_RVTTYPE', 'description': 'Type de revêtement'} tag_39503\n",
      "{'used': True, 'type': 'num', 'unit': '°C', 'nom': 'T_B_PR_MO', 'description': 'T° bande sortie préchauffe'} tag_39511\n",
      "{'used': True, 'type': 'num', 'unit': '°C', 'nom': 'T_ext', 'description': 'T° extérieure'} tag_40307\n"
     ]
    }
   ],
   "source": [
    "for t,f in dico_model['facteurs'].items():\n",
    "    print(f,t)"
   ]
  },
  {
   "cell_type": "code",
   "execution_count": 36,
   "metadata": {},
   "outputs": [
    {
     "data": {
      "text/plain": [
       "{'tag_modelise': 'tag_40310',\n",
       " 'site': 'MZ-LM2',\n",
       " 'experiment': 'model_MZ',\n",
       " 'mangling': 'Tech.MZ.LM2.MO.PC',\n",
       " 'tag_name': 'Conso_Gaz_Charge_Prech',\n",
       " 'ref_periode_debut': '19/08/2020  00:00:00',\n",
       " 'ref_periode_fin': '14/04/2023  11:00:00',\n",
       " 'tag_unit': 'GJ',\n",
       " 'freq': 'ProductUnit',\n",
       " 'description': 'Consommation Gaz Préchauffe',\n",
       " 'facteurs': {'tag_39504': {'used': True,\n",
       "   'type': 'num',\n",
       "   'unit': 'mm*100',\n",
       "   'nom': 'EPAI_VISEE',\n",
       "   'seuil-min': 0.0,\n",
       "   'description': 'Epaisseur bobine'},\n",
       "  'tag_39505': {'used': True,\n",
       "   'type': 'num',\n",
       "   'unit': 'mm',\n",
       "   'nom': 'LARG_VISEE',\n",
       "   'seuil-min': 0.0,\n",
       "   'description': 'Largeur bobine'},\n",
       "  'tag_39506': {'used': True,\n",
       "   'type': 'num',\n",
       "   'unit': 'm',\n",
       "   'nom': 'LONG_MES',\n",
       "   'seuil-min': 0.0,\n",
       "   'description': 'Longueur bobine'},\n",
       "  'tag_39502': {'used': True,\n",
       "   'type': 'cat',\n",
       "   'unit': '',\n",
       "   'nom': 'M1_ACIER',\n",
       "   'description': \"Type d'acier\"},\n",
       "  'tag_39503': {'used': True,\n",
       "   'type': 'cat',\n",
       "   'unit': '',\n",
       "   'nom': 'OF_RVTTYPE',\n",
       "   'description': 'Type de revêtement'},\n",
       "  'tag_39511': {'used': True,\n",
       "   'type': 'num',\n",
       "   'unit': '°C',\n",
       "   'nom': 'T_B_PR_MO',\n",
       "   'description': 'T° bande sortie préchauffe'},\n",
       "  'tag_40307': {'used': True,\n",
       "   'type': 'num',\n",
       "   'unit': '°C',\n",
       "   'nom': 'T_ext',\n",
       "   'description': 'T° extérieure'}}}"
      ]
     },
     "execution_count": 36,
     "metadata": {},
     "output_type": "execute_result"
    }
   ],
   "source": [
    "dico_model"
   ]
  },
  {
   "cell_type": "code",
   "execution_count": 22,
   "metadata": {},
   "outputs": [
    {
     "data": {
      "text/plain": [
       "_StoreAction(option_strings=[], dest='model_file_pkl', nargs=None, const=None, default=None, type=<class 'str'>, choices=None, help='emplacement du fichier modèle au format pkl', metavar=None)"
      ]
     },
     "execution_count": 22,
     "metadata": {},
     "output_type": "execute_result"
    }
   ],
   "source": [
    "import argparse\n",
    "\n",
    "parser = argparse.ArgumentParser(description='Arguments calcul des shapes values')\n",
    "parser.add_argument('model_file_config', type=str,help='emplacement du fichier de configuration du modèle')\n",
    "parser.add_argument('start_date', type=str,help='date début au format d/M/Y H:M:S')\n",
    "parser.add_argument('end_date', type=str,help='date fin au format d/M/Y H:M:S')\n",
    "parser.add_argument('model_file_pkl', type=str,help='emplacement du fichier modèle au format pkl')\n"
   ]
  },
  {
   "cell_type": "code",
   "execution_count": 24,
   "metadata": {},
   "outputs": [
    {
     "data": {
      "text/plain": [
       "['__class__',\n",
       " '__delattr__',\n",
       " '__dict__',\n",
       " '__dir__',\n",
       " '__doc__',\n",
       " '__eq__',\n",
       " '__format__',\n",
       " '__ge__',\n",
       " '__getattribute__',\n",
       " '__gt__',\n",
       " '__hash__',\n",
       " '__init__',\n",
       " '__init_subclass__',\n",
       " '__le__',\n",
       " '__lt__',\n",
       " '__module__',\n",
       " '__ne__',\n",
       " '__new__',\n",
       " '__reduce__',\n",
       " '__reduce_ex__',\n",
       " '__repr__',\n",
       " '__setattr__',\n",
       " '__sizeof__',\n",
       " '__str__',\n",
       " '__subclasshook__',\n",
       " '__weakref__',\n",
       " '_action_groups',\n",
       " '_actions',\n",
       " '_add_action',\n",
       " '_add_container_actions',\n",
       " '_check_conflict',\n",
       " '_check_value',\n",
       " '_defaults',\n",
       " '_get_args',\n",
       " '_get_formatter',\n",
       " '_get_handler',\n",
       " '_get_kwargs',\n",
       " '_get_nargs_pattern',\n",
       " '_get_option_tuples',\n",
       " '_get_optional_actions',\n",
       " '_get_optional_kwargs',\n",
       " '_get_positional_actions',\n",
       " '_get_positional_kwargs',\n",
       " '_get_value',\n",
       " '_get_values',\n",
       " '_handle_conflict_error',\n",
       " '_handle_conflict_resolve',\n",
       " '_has_negative_number_optionals',\n",
       " '_match_argument',\n",
       " '_match_arguments_partial',\n",
       " '_mutually_exclusive_groups',\n",
       " '_negative_number_matcher',\n",
       " '_option_string_actions',\n",
       " '_optionals',\n",
       " '_parse_known_args',\n",
       " '_parse_optional',\n",
       " '_pop_action_class',\n",
       " '_positionals',\n",
       " '_print_message',\n",
       " '_read_args_from_files',\n",
       " '_registries',\n",
       " '_registry_get',\n",
       " '_remove_action',\n",
       " '_subparsers',\n",
       " 'add_argument',\n",
       " 'add_argument_group',\n",
       " 'add_help',\n",
       " 'add_mutually_exclusive_group',\n",
       " 'add_subparsers',\n",
       " 'allow_abbrev',\n",
       " 'argument_default',\n",
       " 'conflict_handler',\n",
       " 'convert_arg_line_to_args',\n",
       " 'description',\n",
       " 'epilog',\n",
       " 'error',\n",
       " 'exit',\n",
       " 'exit_on_error',\n",
       " 'format_help',\n",
       " 'format_usage',\n",
       " 'formatter_class',\n",
       " 'fromfile_prefix_chars',\n",
       " 'get_default',\n",
       " 'parse_args',\n",
       " 'parse_intermixed_args',\n",
       " 'parse_known_args',\n",
       " 'parse_known_intermixed_args',\n",
       " 'prefix_chars',\n",
       " 'print_help',\n",
       " 'print_usage',\n",
       " 'prog',\n",
       " 'register',\n",
       " 'set_defaults',\n",
       " 'usage']"
      ]
     },
     "execution_count": 24,
     "metadata": {},
     "output_type": "execute_result"
    }
   ],
   "source": [
    "dir(parser)"
   ]
  },
  {
   "cell_type": "code",
   "execution_count": 23,
   "metadata": {},
   "outputs": [
    {
     "name": "stderr",
     "output_type": "stream",
     "text": [
      "usage: ipykernel_launcher.py [-h]\n",
      "                             model_file_config start_date end_date\n",
      "                             model_file_pkl\n",
      "ipykernel_launcher.py: error: the following arguments are required: model_file_config, start_date, end_date, model_file_pkl\n"
     ]
    },
    {
     "ename": "SystemExit",
     "evalue": "2",
     "output_type": "error",
     "traceback": [
      "An exception has occurred, use %tb to see the full traceback.\n",
      "\u001b[1;31mSystemExit\u001b[0m\u001b[1;31m:\u001b[0m 2\n"
     ]
    },
    {
     "name": "stderr",
     "output_type": "stream",
     "text": [
      "c:\\Users\\33623\\Modeling\\.venv\\automl\\lib\\site-packages\\IPython\\core\\interactiveshell.py:3468: UserWarning: To exit: use 'exit', 'quit', or Ctrl-D.\n",
      "  warn(\"To exit: use 'exit', 'quit', or Ctrl-D.\", stacklevel=1)\n"
     ]
    }
   ],
   "source": [
    "args = parser.parse_args()"
   ]
  },
  {
   "cell_type": "code",
   "execution_count": 21,
   "metadata": {},
   "outputs": [
    {
     "data": {
      "text/plain": [
       "True"
      ]
     },
     "execution_count": 21,
     "metadata": {},
     "output_type": "execute_result"
    }
   ],
   "source": [
    "start_date < end_date"
   ]
  },
  {
   "cell_type": "code",
   "execution_count": 15,
   "metadata": {},
   "outputs": [
    {
     "name": "stdout",
     "output_type": "stream",
     "text": [
      "import du tag: tag_40310\n",
      "import du tag: tag_39504\n",
      "import du tag: tag_39505\n",
      "import du tag: tag_39506\n",
      "import du tag: tag_39502\n",
      "import du tag: tag_39503\n",
      "import du tag: tag_39511\n",
      "import du tag: tag_40307\n"
     ]
    }
   ],
   "source": [
    "data = compshape.read_data(file_config=file_model_config,start_date=start_date,end_date=end_date)"
   ]
  },
  {
   "cell_type": "code",
   "execution_count": 16,
   "metadata": {},
   "outputs": [
    {
     "data": {
      "text/html": [
       "<div>\n",
       "<style scoped>\n",
       "    .dataframe tbody tr th:only-of-type {\n",
       "        vertical-align: middle;\n",
       "    }\n",
       "\n",
       "    .dataframe tbody tr th {\n",
       "        vertical-align: top;\n",
       "    }\n",
       "\n",
       "    .dataframe thead th {\n",
       "        text-align: right;\n",
       "    }\n",
       "</style>\n",
       "<table border=\"1\" class=\"dataframe\">\n",
       "  <thead>\n",
       "    <tr style=\"text-align: right;\">\n",
       "      <th></th>\n",
       "      <th>Conso_Gaz_Charge_Prech</th>\n",
       "      <th>EPAI_VISEE</th>\n",
       "      <th>LARG_VISEE</th>\n",
       "      <th>LONG_MES</th>\n",
       "      <th>M1_ACIER</th>\n",
       "      <th>OF_RVTTYPE</th>\n",
       "      <th>T_B_PR_MO</th>\n",
       "      <th>T_ext</th>\n",
       "    </tr>\n",
       "    <tr>\n",
       "      <th>Date</th>\n",
       "      <th></th>\n",
       "      <th></th>\n",
       "      <th></th>\n",
       "      <th></th>\n",
       "      <th></th>\n",
       "      <th></th>\n",
       "      <th></th>\n",
       "      <th></th>\n",
       "    </tr>\n",
       "  </thead>\n",
       "  <tbody>\n",
       "    <tr>\n",
       "      <th>2023-04-12 00:24:13</th>\n",
       "      <td>9.452207</td>\n",
       "      <td>110.0</td>\n",
       "      <td>868.0</td>\n",
       "      <td>1923.0</td>\n",
       "      <td>SB</td>\n",
       "      <td>ALU1</td>\n",
       "      <td>613.0</td>\n",
       "      <td>7.0</td>\n",
       "    </tr>\n",
       "    <tr>\n",
       "      <th>2023-04-12 01:02:24</th>\n",
       "      <td>9.441215</td>\n",
       "      <td>110.0</td>\n",
       "      <td>868.0</td>\n",
       "      <td>2018.0</td>\n",
       "      <td>SB</td>\n",
       "      <td>ALU1</td>\n",
       "      <td>609.0</td>\n",
       "      <td>6.9</td>\n",
       "    </tr>\n",
       "    <tr>\n",
       "      <th>2023-04-12 01:36:12</th>\n",
       "      <td>8.579703</td>\n",
       "      <td>110.0</td>\n",
       "      <td>868.0</td>\n",
       "      <td>1815.0</td>\n",
       "      <td>SB</td>\n",
       "      <td>ALU1</td>\n",
       "      <td>609.0</td>\n",
       "      <td>6.9</td>\n",
       "    </tr>\n",
       "    <tr>\n",
       "      <th>2023-04-12 02:15:14</th>\n",
       "      <td>9.963315</td>\n",
       "      <td>104.0</td>\n",
       "      <td>852.0</td>\n",
       "      <td>2153.0</td>\n",
       "      <td>SB</td>\n",
       "      <td>ALU1</td>\n",
       "      <td>610.0</td>\n",
       "      <td>6.9</td>\n",
       "    </tr>\n",
       "    <tr>\n",
       "      <th>2023-04-12 02:49:51</th>\n",
       "      <td>8.581602</td>\n",
       "      <td>100.0</td>\n",
       "      <td>856.0</td>\n",
       "      <td>1970.0</td>\n",
       "      <td>SB</td>\n",
       "      <td>ALU1</td>\n",
       "      <td>610.0</td>\n",
       "      <td>6.9</td>\n",
       "    </tr>\n",
       "    <tr>\n",
       "      <th>...</th>\n",
       "      <td>...</td>\n",
       "      <td>...</td>\n",
       "      <td>...</td>\n",
       "      <td>...</td>\n",
       "      <td>...</td>\n",
       "      <td>...</td>\n",
       "      <td>...</td>\n",
       "      <td>...</td>\n",
       "    </tr>\n",
       "    <tr>\n",
       "      <th>2023-04-14 07:53:42</th>\n",
       "      <td>7.322207</td>\n",
       "      <td>43.0</td>\n",
       "      <td>1080.0</td>\n",
       "      <td>3014.0</td>\n",
       "      <td>ID</td>\n",
       "      <td>ALU1</td>\n",
       "      <td>604.0</td>\n",
       "      <td>-1.3</td>\n",
       "    </tr>\n",
       "    <tr>\n",
       "      <th>2023-04-14 08:40:42</th>\n",
       "      <td>7.405626</td>\n",
       "      <td>43.0</td>\n",
       "      <td>1080.0</td>\n",
       "      <td>3095.0</td>\n",
       "      <td>ID</td>\n",
       "      <td>ALU1</td>\n",
       "      <td>604.0</td>\n",
       "      <td>1.7</td>\n",
       "    </tr>\n",
       "    <tr>\n",
       "      <th>2023-04-14 09:26:25</th>\n",
       "      <td>7.042856</td>\n",
       "      <td>43.0</td>\n",
       "      <td>1080.0</td>\n",
       "      <td>3005.0</td>\n",
       "      <td>ID</td>\n",
       "      <td>ALU1</td>\n",
       "      <td>605.0</td>\n",
       "      <td>3.9</td>\n",
       "    </tr>\n",
       "    <tr>\n",
       "      <th>2023-04-14 10:12:28</th>\n",
       "      <td>7.094676</td>\n",
       "      <td>43.0</td>\n",
       "      <td>1080.0</td>\n",
       "      <td>3036.0</td>\n",
       "      <td>ID</td>\n",
       "      <td>ALU1</td>\n",
       "      <td>604.0</td>\n",
       "      <td>5.9</td>\n",
       "    </tr>\n",
       "    <tr>\n",
       "      <th>2023-04-14 10:58:21</th>\n",
       "      <td>6.918785</td>\n",
       "      <td>43.0</td>\n",
       "      <td>1080.0</td>\n",
       "      <td>3012.0</td>\n",
       "      <td>ID</td>\n",
       "      <td>ALU1</td>\n",
       "      <td>605.0</td>\n",
       "      <td>5.9</td>\n",
       "    </tr>\n",
       "  </tbody>\n",
       "</table>\n",
       "<p>91 rows × 8 columns</p>\n",
       "</div>"
      ],
      "text/plain": [
       "                     Conso_Gaz_Charge_Prech  EPAI_VISEE  LARG_VISEE  LONG_MES  \\\n",
       "Date                                                                            \n",
       "2023-04-12 00:24:13                9.452207       110.0       868.0    1923.0   \n",
       "2023-04-12 01:02:24                9.441215       110.0       868.0    2018.0   \n",
       "2023-04-12 01:36:12                8.579703       110.0       868.0    1815.0   \n",
       "2023-04-12 02:15:14                9.963315       104.0       852.0    2153.0   \n",
       "2023-04-12 02:49:51                8.581602       100.0       856.0    1970.0   \n",
       "...                                     ...         ...         ...       ...   \n",
       "2023-04-14 07:53:42                7.322207        43.0      1080.0    3014.0   \n",
       "2023-04-14 08:40:42                7.405626        43.0      1080.0    3095.0   \n",
       "2023-04-14 09:26:25                7.042856        43.0      1080.0    3005.0   \n",
       "2023-04-14 10:12:28                7.094676        43.0      1080.0    3036.0   \n",
       "2023-04-14 10:58:21                6.918785        43.0      1080.0    3012.0   \n",
       "\n",
       "                    M1_ACIER OF_RVTTYPE  T_B_PR_MO  T_ext  \n",
       "Date                                                       \n",
       "2023-04-12 00:24:13       SB       ALU1      613.0    7.0  \n",
       "2023-04-12 01:02:24       SB       ALU1      609.0    6.9  \n",
       "2023-04-12 01:36:12       SB       ALU1      609.0    6.9  \n",
       "2023-04-12 02:15:14       SB       ALU1      610.0    6.9  \n",
       "2023-04-12 02:49:51       SB       ALU1      610.0    6.9  \n",
       "...                      ...        ...        ...    ...  \n",
       "2023-04-14 07:53:42       ID       ALU1      604.0   -1.3  \n",
       "2023-04-14 08:40:42       ID       ALU1      604.0    1.7  \n",
       "2023-04-14 09:26:25       ID       ALU1      605.0    3.9  \n",
       "2023-04-14 10:12:28       ID       ALU1      604.0    5.9  \n",
       "2023-04-14 10:58:21       ID       ALU1      605.0    5.9  \n",
       "\n",
       "[91 rows x 8 columns]"
      ]
     },
     "execution_count": 16,
     "metadata": {},
     "output_type": "execute_result"
    }
   ],
   "source": []
  },
  {
   "cell_type": "code",
   "execution_count": 5,
   "metadata": {},
   "outputs": [],
   "source": [
    "dico_model = compshape.read_model_config(file_model_config)"
   ]
  }
 ],
 "metadata": {
  "kernelspec": {
   "display_name": "venv_test",
   "language": "python",
   "name": "python3"
  },
  "language_info": {
   "codemirror_mode": {
    "name": "ipython",
    "version": 3
   },
   "file_extension": ".py",
   "mimetype": "text/x-python",
   "name": "python",
   "nbconvert_exporter": "python",
   "pygments_lexer": "ipython3",
   "version": "3.9.1"
  },
  "orig_nbformat": 4
 },
 "nbformat": 4,
 "nbformat_minor": 2
}
